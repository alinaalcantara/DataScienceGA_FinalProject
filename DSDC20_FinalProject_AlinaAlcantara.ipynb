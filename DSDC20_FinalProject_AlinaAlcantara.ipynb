{
 "cells": [
  {
   "cell_type": "markdown",
   "metadata": {},
   "source": [
    "# Final Project, pt. 2\n",
    "#### Alina Alcantara"
   ]
  },
  {
   "cell_type": "markdown",
   "metadata": {},
   "source": [
    "**<font color=blue>Problem statement:</font>**\n",
    "* Based on the results of the National Survey on Drug Use and Health 2015, I will use a logistic regression and random forests as classification methods to classify respondents in two groups: whether a person misuses pain killers or not, based on factors such as sex, marital status, work status, race, income, and misuse of other drugs. "
   ]
  },
  {
   "cell_type": "markdown",
   "metadata": {},
   "source": [
    "**<font color=blue>Hypothesis:</font>**\n",
    "* H0 = Sex, marital status, work status, race, level of income and misuse of drugs have no effect on whether a person misuses pain relievers or not.\n",
    "* H1 = Sex, marital status, work status, race, level of income and misuse of drugs have an effect on whether a person misuses pain relievers or not."
   ]
  },
  {
   "cell_type": "code",
   "execution_count": 2,
   "metadata": {},
   "outputs": [
    {
     "name": "stderr",
     "output_type": "stream",
     "text": [
      "/anaconda/lib/python2.7/site-packages/sklearn/cross_validation.py:44: DeprecationWarning: This module was deprecated in version 0.18 in favor of the model_selection module into which all the refactored classes and functions are moved. Also note that the interface of the new CV iterators are different from that of this module. This module will be removed in 0.20.\n",
      "  \"This module will be removed in 0.20.\", DeprecationWarning)\n",
      "/anaconda/lib/python2.7/site-packages/IPython/core/interactiveshell.py:2717: DtypeWarning: Columns (2501) have mixed types. Specify dtype option on import or set low_memory=False.\n",
      "  interactivity=interactivity, compiler=compiler, result=result)\n"
     ]
    }
   ],
   "source": [
    "import pandas as pd\n",
    "import numpy as np\n",
    "from sklearn import linear_model\n",
    "from sklearn.datasets import load_iris\n",
    "from sklearn import tree\n",
    "from sklearn.model_selection import train_test_split, cross_val_score\n",
    "from sklearn.metrics import roc_auc_score\n",
    "from sklearn import metrics\n",
    "from sklearn.linear_model import LogisticRegression\n",
    "import seaborn as sns\n",
    "import matplotlib.pyplot as plt\n",
    "from sklearn.ensemble import RandomForestClassifier\n",
    "from sklearn.calibration import calibration_curve, CalibratedClassifierCV\n",
    "from sklearn.metrics import (brier_score_loss, precision_score, recall_score, f1_score, log_loss)\n",
    "from sklearn.model_selection import train_test_split, GridSearchCV\n",
    "from sklearn.neighbors import KNeighborsClassifier\n",
    "from imblearn import under_sampling, over_sampling\n",
    "from sklearn.datasets import make_classification\n",
    "from sklearn.svm import LinearSVC\n",
    "from imblearn.pipeline import make_pipeline\n",
    "from imblearn.over_sampling import SMOTE\n",
    "from imblearn.combine import SMOTEENN, SMOTETomek\n",
    "from sklearn.decomposition import PCA\n",
    "from sklearn.cross_validation import KFold, StratifiedKFold, cross_val_score\n",
    "sns.set(style=\"whitegrid\", font_scale=2.5)\n",
    "%matplotlib inline\n",
    "path2015 = r'/Users/alinaalcantara/ds-dc-20/datasets/drugs2015.tsv'\n",
    "drugs2015 = pd.read_csv(path2015, sep='\\t')"
   ]
  },
  {
   "cell_type": "code",
   "execution_count": 2,
   "metadata": {},
   "outputs": [
    {
     "data": {
      "text/plain": [
       "(57146, 2666)"
      ]
     },
     "execution_count": 2,
     "metadata": {},
     "output_type": "execute_result"
    }
   ],
   "source": [
    "drugs2015.shape"
   ]
  },
  {
   "cell_type": "markdown",
   "metadata": {},
   "source": [
    "**<font color=blue>Variables:</font>**\n",
    "* mrj: marijuana. 0 = Did not use in the past yr; 1=used within the past yr\n",
    "* coc: cocaine\n",
    "* crk: crack\n",
    "* her: heroin\n",
    "* pain_rel: misuse of pain relievers. 0= did not misuse pain relievers in the past yr; 1= misused pain relievers\n",
    "* oxy: oxicontin misuse \n",
    "* tranq: tranquilizers misuse\n",
    "* stim: stimulants misuse\n",
    "* sed : sedative misuse\n",
    "* illegal_drug: any illicit drug in past 12mos\n",
    "* oxyyr: oxycontin - any past yr misuse 0=no 1=yes\n",
    "* tramyr: tramadol - any past yr misuse 0=no 1=yes\n",
    "* morphyr: morphine products - any past yr misuse 0=no 1=yes\n",
    "* fentyr: fentanyl products - any past yr misuse \n",
    "* bupryr:Buprenorphine Products - any past yr misuse\n",
    "* oxymyr:Oxymorphone Products - any past yr misuse\n",
    "* demyr: Demerol products - any past yr use\n",
    "* hydmyr:Hydromorphone Products - any past yr misuse\n",
    "* methdyr: methadone products - any past yr use\n",
    "* age: age of respondent \n",
    "* sex: sex of respondent \n",
    "* marital: marital status of respondent\n",
    "* work: work status of respondent\n",
    "* income: income level of respondent\n",
    "* race: race of respondent"
   ]
  },
  {
   "cell_type": "code",
   "execution_count": 3,
   "metadata": {
    "collapsed": true
   },
   "outputs": [],
   "source": [
    "df2015 = drugs2015.filter(['QUESTID2','MRJYR','COCYR','CRKYR','HERYR','PNRNMYR','OXYCNNMYR','TRQNMYR','STMNMYR','SEDNMYR','ILLYR','OXCNNMYR2','TRAMPDPYMU','MORPPDPYMU','FENTPDPYMU','BUPRPDPYMU','OXYMPDPYMU','DEMEPDPYMU','HYDMPDPYMU','MTDNPDPYMU','CATAG7','IRSEX','IRMARITSTAT','IRWRKSTAT','INCOME','NEWRACE2'], axis=1)"
   ]
  },
  {
   "cell_type": "code",
   "execution_count": 4,
   "metadata": {
    "collapsed": true
   },
   "outputs": [],
   "source": [
    "cols = {'CATAG7':'age','QUESTID2':'id','MRJYR':'mrj','COCYR':'coc','CRKYR':'crk','HERYR':'her','PNRNMYR':'pain_rel','OXYCNNMYR':'oxy','TRQNMYR':'tranq','STMNMYR':'stim', 'SEDNMYR':'sed','ILLYR':'illegal_drug','OXCNNMYR2':'oxyyr','TRAMPDPYMU':'tramyr','MORPPDPYMU':'morphyr','FENTPDPYMU':'fentyr','BUPRPDPYMU':'bupryr','OXYMPDPYMU':'oxymyr','DEMEPDPYMU':'demyr','HYDMPDPYMU':'hydmyr','MTDNPDPYMU':'methdyr','IRSEX':'sex','IRMARITSTAT':'marital','IRWRKSTAT':'work','INCOME':'income','NEWRACE2':'race'}\n",
    "df2015.rename(columns = cols, inplace=True)"
   ]
  },
  {
   "cell_type": "code",
   "execution_count": 5,
   "metadata": {
    "collapsed": true
   },
   "outputs": [],
   "source": [
    "df2015.set_index('id',inplace=True)"
   ]
  },
  {
   "cell_type": "code",
   "execution_count": 134,
   "metadata": {},
   "outputs": [
    {
     "data": {
      "text/plain": [
       "(57146, 25)"
      ]
     },
     "execution_count": 134,
     "metadata": {},
     "output_type": "execute_result"
    }
   ],
   "source": [
    "df2015.shape"
   ]
  },
  {
   "cell_type": "code",
   "execution_count": 6,
   "metadata": {},
   "outputs": [],
   "source": [
    "age = {1:'12_13',2:'14_15',3:'16_17',4:'18_20',5:'21_25',6:'26_34',7:'35_and_over'}\n",
    "marital = {1: 'married',2:'widowed',3:'Divorced',4:'never_married',99:'child'}\n",
    "work = {1:'full_time',2:'part_time',3:'unemployed',4:'other',99:'child'}\n",
    "income = {1:'<20,000',2:'21-49000',3:'50-74000',4:'75000>'}\n",
    "race = {1:'white',2:'AfrAm',3:'NatAm',4:'NativeHI',5:'Asian',6:'>1race',7:'Hispanic'}\n",
    "sex = {1:'male',2:'female'}\n",
    "df2015 = df2015.replace({'age': age,'marital':marital,'work':work, 'income':income,'race':race,'sex':sex})"
   ]
  },
  {
   "cell_type": "markdown",
   "metadata": {},
   "source": [
    "## <font color=blue>Exploratory Analysis</font>"
   ]
  },
  {
   "cell_type": "code",
   "execution_count": 8,
   "metadata": {
    "scrolled": true
   },
   "outputs": [
    {
     "data": {
      "text/html": [
       "<div>\n",
       "<style>\n",
       "    .dataframe thead tr:only-child th {\n",
       "        text-align: right;\n",
       "    }\n",
       "\n",
       "    .dataframe thead th {\n",
       "        text-align: left;\n",
       "    }\n",
       "\n",
       "    .dataframe tbody tr th {\n",
       "        vertical-align: top;\n",
       "    }\n",
       "</style>\n",
       "<table border=\"1\" class=\"dataframe\">\n",
       "  <thead>\n",
       "    <tr style=\"text-align: right;\">\n",
       "      <th></th>\n",
       "      <th>mrj</th>\n",
       "      <th>coc</th>\n",
       "      <th>crk</th>\n",
       "      <th>her</th>\n",
       "      <th>pain_rel</th>\n",
       "      <th>oxy</th>\n",
       "      <th>tranq</th>\n",
       "      <th>stim</th>\n",
       "      <th>sed</th>\n",
       "      <th>illegal_drug</th>\n",
       "      <th>...</th>\n",
       "      <th>oxymyr</th>\n",
       "      <th>demyr</th>\n",
       "      <th>hydmyr</th>\n",
       "      <th>methdyr</th>\n",
       "      <th>age</th>\n",
       "      <th>sex</th>\n",
       "      <th>marital</th>\n",
       "      <th>work</th>\n",
       "      <th>income</th>\n",
       "      <th>race</th>\n",
       "    </tr>\n",
       "    <tr>\n",
       "      <th>id</th>\n",
       "      <th></th>\n",
       "      <th></th>\n",
       "      <th></th>\n",
       "      <th></th>\n",
       "      <th></th>\n",
       "      <th></th>\n",
       "      <th></th>\n",
       "      <th></th>\n",
       "      <th></th>\n",
       "      <th></th>\n",
       "      <th></th>\n",
       "      <th></th>\n",
       "      <th></th>\n",
       "      <th></th>\n",
       "      <th></th>\n",
       "      <th></th>\n",
       "      <th></th>\n",
       "      <th></th>\n",
       "      <th></th>\n",
       "      <th></th>\n",
       "      <th></th>\n",
       "    </tr>\n",
       "  </thead>\n",
       "  <tbody>\n",
       "    <tr>\n",
       "      <th>25095143</th>\n",
       "      <td>0</td>\n",
       "      <td>0</td>\n",
       "      <td>0</td>\n",
       "      <td>0</td>\n",
       "      <td>0</td>\n",
       "      <td>0</td>\n",
       "      <td>0</td>\n",
       "      <td>0</td>\n",
       "      <td>0</td>\n",
       "      <td>0</td>\n",
       "      <td>...</td>\n",
       "      <td>0</td>\n",
       "      <td>0</td>\n",
       "      <td>0</td>\n",
       "      <td>0</td>\n",
       "      <td>16_17</td>\n",
       "      <td>male</td>\n",
       "      <td>never_married</td>\n",
       "      <td>other</td>\n",
       "      <td>&gt;20,000</td>\n",
       "      <td>white</td>\n",
       "    </tr>\n",
       "    <tr>\n",
       "      <th>13005143</th>\n",
       "      <td>1</td>\n",
       "      <td>0</td>\n",
       "      <td>0</td>\n",
       "      <td>0</td>\n",
       "      <td>0</td>\n",
       "      <td>0</td>\n",
       "      <td>0</td>\n",
       "      <td>0</td>\n",
       "      <td>0</td>\n",
       "      <td>1</td>\n",
       "      <td>...</td>\n",
       "      <td>0</td>\n",
       "      <td>0</td>\n",
       "      <td>0</td>\n",
       "      <td>0</td>\n",
       "      <td>35_and_over</td>\n",
       "      <td>male</td>\n",
       "      <td>Divorced</td>\n",
       "      <td>full_time</td>\n",
       "      <td>21-49000</td>\n",
       "      <td>Hispanic</td>\n",
       "    </tr>\n",
       "    <tr>\n",
       "      <th>67415143</th>\n",
       "      <td>0</td>\n",
       "      <td>0</td>\n",
       "      <td>0</td>\n",
       "      <td>0</td>\n",
       "      <td>0</td>\n",
       "      <td>0</td>\n",
       "      <td>0</td>\n",
       "      <td>0</td>\n",
       "      <td>0</td>\n",
       "      <td>0</td>\n",
       "      <td>...</td>\n",
       "      <td>0</td>\n",
       "      <td>0</td>\n",
       "      <td>0</td>\n",
       "      <td>0</td>\n",
       "      <td>26_34</td>\n",
       "      <td>female</td>\n",
       "      <td>never_married</td>\n",
       "      <td>other</td>\n",
       "      <td>&gt;20,000</td>\n",
       "      <td>white</td>\n",
       "    </tr>\n",
       "    <tr>\n",
       "      <th>70925143</th>\n",
       "      <td>0</td>\n",
       "      <td>0</td>\n",
       "      <td>0</td>\n",
       "      <td>0</td>\n",
       "      <td>0</td>\n",
       "      <td>0</td>\n",
       "      <td>0</td>\n",
       "      <td>0</td>\n",
       "      <td>0</td>\n",
       "      <td>0</td>\n",
       "      <td>...</td>\n",
       "      <td>0</td>\n",
       "      <td>0</td>\n",
       "      <td>0</td>\n",
       "      <td>0</td>\n",
       "      <td>12_13</td>\n",
       "      <td>female</td>\n",
       "      <td>child</td>\n",
       "      <td>child</td>\n",
       "      <td>75000&gt;</td>\n",
       "      <td>Hispanic</td>\n",
       "    </tr>\n",
       "    <tr>\n",
       "      <th>75235143</th>\n",
       "      <td>0</td>\n",
       "      <td>0</td>\n",
       "      <td>0</td>\n",
       "      <td>0</td>\n",
       "      <td>0</td>\n",
       "      <td>0</td>\n",
       "      <td>0</td>\n",
       "      <td>0</td>\n",
       "      <td>0</td>\n",
       "      <td>0</td>\n",
       "      <td>...</td>\n",
       "      <td>0</td>\n",
       "      <td>0</td>\n",
       "      <td>0</td>\n",
       "      <td>0</td>\n",
       "      <td>21_25</td>\n",
       "      <td>female</td>\n",
       "      <td>married</td>\n",
       "      <td>other</td>\n",
       "      <td>&gt;20,000</td>\n",
       "      <td>white</td>\n",
       "    </tr>\n",
       "  </tbody>\n",
       "</table>\n",
       "<p>5 rows × 25 columns</p>\n",
       "</div>"
      ],
      "text/plain": [
       "          mrj  coc  crk  her  pain_rel  oxy  tranq  stim  sed  illegal_drug  \\\n",
       "id                                                                            \n",
       "25095143    0    0    0    0         0    0      0     0    0             0   \n",
       "13005143    1    0    0    0         0    0      0     0    0             1   \n",
       "67415143    0    0    0    0         0    0      0     0    0             0   \n",
       "70925143    0    0    0    0         0    0      0     0    0             0   \n",
       "75235143    0    0    0    0         0    0      0     0    0             0   \n",
       "\n",
       "            ...     oxymyr  demyr  hydmyr  methdyr          age     sex  \\\n",
       "id          ...                                                           \n",
       "25095143    ...          0      0       0        0        16_17    male   \n",
       "13005143    ...          0      0       0        0  35_and_over    male   \n",
       "67415143    ...          0      0       0        0        26_34  female   \n",
       "70925143    ...          0      0       0        0        12_13  female   \n",
       "75235143    ...          0      0       0        0        21_25  female   \n",
       "\n",
       "                marital       work    income      race  \n",
       "id                                                      \n",
       "25095143  never_married      other   >20,000     white  \n",
       "13005143       Divorced  full_time  21-49000  Hispanic  \n",
       "67415143  never_married      other   >20,000     white  \n",
       "70925143          child      child    75000>  Hispanic  \n",
       "75235143        married      other   >20,000     white  \n",
       "\n",
       "[5 rows x 25 columns]"
      ]
     },
     "execution_count": 8,
     "metadata": {},
     "output_type": "execute_result"
    }
   ],
   "source": [
    "df2015.head()"
   ]
  },
  {
   "cell_type": "code",
   "execution_count": 164,
   "metadata": {},
   "outputs": [
    {
     "data": {
      "text/plain": [
       "Index([u'mrj', u'coc', u'crk', u'her', u'pain_rel', u'oxy', u'tranq', u'stim',\n",
       "       u'sed', u'illegal_drug', u'oxyyr', u'tramyr', u'morphyr', u'fentyr',\n",
       "       u'bupryr', u'oxymyr', u'demyr', u'hydmyr', u'methdyr', u'age', u'sex',\n",
       "       u'marital', u'work', u'income', u'race'],\n",
       "      dtype='object')"
      ]
     },
     "execution_count": 164,
     "metadata": {},
     "output_type": "execute_result"
    }
   ],
   "source": [
    "df2015.columns"
   ]
  },
  {
   "cell_type": "code",
   "execution_count": 165,
   "metadata": {},
   "outputs": [
    {
     "data": {
      "text/plain": [
       "0    0.943793\n",
       "1    0.056207\n",
       "Name: pain_rel, dtype: float64"
      ]
     },
     "execution_count": 165,
     "metadata": {},
     "output_type": "execute_result"
    }
   ],
   "source": [
    "#pain killer misuse: 5.6% of the respondents said they misused a pain reliever in the past year\n",
    "#this variable will be our outcome in further models\n",
    "df2015.pain_rel.value_counts(normalize=True)"
   ]
  },
  {
   "cell_type": "code",
   "execution_count": 166,
   "metadata": {},
   "outputs": [
    {
     "data": {
      "text/plain": [
       "female    0.532146\n",
       "male      0.467854\n",
       "Name: sex, dtype: float64"
      ]
     },
     "execution_count": 166,
     "metadata": {},
     "output_type": "execute_result"
    }
   ],
   "source": [
    "#sex: 53% of respondents are women. \n",
    "df2015.sex.value_counts(normalize=True)"
   ]
  },
  {
   "cell_type": "code",
   "execution_count": 167,
   "metadata": {},
   "outputs": [
    {
     "data": {
      "text/plain": [
       "35_and_over    0.348651\n",
       "21_25          0.161814\n",
       "26_34          0.158961\n",
       "18_20          0.092850\n",
       "14_15          0.082508\n",
       "16_17          0.080111\n",
       "12_13          0.075106\n",
       "Name: age, dtype: float64"
      ]
     },
     "execution_count": 167,
     "metadata": {},
     "output_type": "execute_result"
    }
   ],
   "source": [
    "#age: 35% of respondents older than 35 years. \n",
    "df2015.age.value_counts(normalize=True)"
   ]
  },
  {
   "cell_type": "code",
   "execution_count": 168,
   "metadata": {},
   "outputs": [
    {
     "data": {
      "text/plain": [
       "never_married    0.453173\n",
       "married          0.316068\n",
       "child            0.116176\n",
       "Divorced         0.084975\n",
       "widowed          0.029608\n",
       "Name: marital, dtype: float64"
      ]
     },
     "execution_count": 168,
     "metadata": {},
     "output_type": "execute_result"
    }
   ],
   "source": [
    "#marital status: 45% has never been married; 31% is married. \n",
    "df2015.marital.value_counts(normalize=True)"
   ]
  },
  {
   "cell_type": "code",
   "execution_count": 169,
   "metadata": {},
   "outputs": [
    {
     "data": {
      "text/plain": [
       "white       0.581843\n",
       "Hispanic    0.186662\n",
       "AfrAm       0.127375\n",
       "Asian       0.044465\n",
       ">1race      0.038778\n",
       "NatAm       0.015644\n",
       "NativeHI    0.005232\n",
       "Name: race, dtype: float64"
      ]
     },
     "execution_count": 169,
     "metadata": {},
     "output_type": "execute_result"
    }
   ],
   "source": [
    "#race: 58% of respondents are white; 18% is Hispanic. \n",
    "df2015.race.value_counts(normalize=True)"
   ]
  },
  {
   "cell_type": "code",
   "execution_count": 170,
   "metadata": {},
   "outputs": [
    {
     "data": {
      "text/plain": [
       "full_time     0.394113\n",
       "other         0.273842\n",
       "part_time     0.152522\n",
       "child         0.116176\n",
       "unemployed    0.063347\n",
       "Name: work, dtype: float64"
      ]
     },
     "execution_count": 170,
     "metadata": {},
     "output_type": "execute_result"
    }
   ],
   "source": [
    "#Work status: 39% of respondents are employed full time\n",
    "df2015.work.value_counts(normalize=True)"
   ]
  },
  {
   "cell_type": "code",
   "execution_count": 7,
   "metadata": {},
   "outputs": [
    {
     "data": {
      "text/plain": [
       "75000>      0.319690\n",
       "21-49000    0.314405\n",
       "<20,000     0.211231\n",
       "50-74000    0.154674\n",
       "Name: income, dtype: float64"
      ]
     },
     "execution_count": 7,
     "metadata": {},
     "output_type": "execute_result"
    }
   ],
   "source": [
    "#Income:31% of respondents have an income greater than 75,000 usd\n",
    "df2015.income.value_counts(normalize=True)"
   ]
  },
  {
   "cell_type": "code",
   "execution_count": 172,
   "metadata": {},
   "outputs": [
    {
     "data": {
      "text/html": [
       "<div>\n",
       "<style>\n",
       "    .dataframe thead tr:only-child th {\n",
       "        text-align: right;\n",
       "    }\n",
       "\n",
       "    .dataframe thead th {\n",
       "        text-align: left;\n",
       "    }\n",
       "\n",
       "    .dataframe tbody tr th {\n",
       "        vertical-align: top;\n",
       "    }\n",
       "</style>\n",
       "<table border=\"1\" class=\"dataframe\">\n",
       "  <thead>\n",
       "    <tr style=\"text-align: right;\">\n",
       "      <th>pain_rel</th>\n",
       "      <th>0</th>\n",
       "      <th>1</th>\n",
       "    </tr>\n",
       "    <tr>\n",
       "      <th>race</th>\n",
       "      <th></th>\n",
       "      <th></th>\n",
       "    </tr>\n",
       "  </thead>\n",
       "  <tbody>\n",
       "    <tr>\n",
       "      <th>&gt;1race</th>\n",
       "      <td>0.914260</td>\n",
       "      <td>0.085740</td>\n",
       "    </tr>\n",
       "    <tr>\n",
       "      <th>AfrAm</th>\n",
       "      <td>0.949581</td>\n",
       "      <td>0.050419</td>\n",
       "    </tr>\n",
       "    <tr>\n",
       "      <th>Asian</th>\n",
       "      <td>0.979142</td>\n",
       "      <td>0.020858</td>\n",
       "    </tr>\n",
       "    <tr>\n",
       "      <th>Hispanic</th>\n",
       "      <td>0.945627</td>\n",
       "      <td>0.054373</td>\n",
       "    </tr>\n",
       "    <tr>\n",
       "      <th>NatAm</th>\n",
       "      <td>0.936242</td>\n",
       "      <td>0.063758</td>\n",
       "    </tr>\n",
       "    <tr>\n",
       "      <th>NativeHI</th>\n",
       "      <td>0.949833</td>\n",
       "      <td>0.050167</td>\n",
       "    </tr>\n",
       "    <tr>\n",
       "      <th>white</th>\n",
       "      <td>0.941353</td>\n",
       "      <td>0.058647</td>\n",
       "    </tr>\n",
       "  </tbody>\n",
       "</table>\n",
       "</div>"
      ],
      "text/plain": [
       "pain_rel         0         1\n",
       "race                        \n",
       ">1race    0.914260  0.085740\n",
       "AfrAm     0.949581  0.050419\n",
       "Asian     0.979142  0.020858\n",
       "Hispanic  0.945627  0.054373\n",
       "NatAm     0.936242  0.063758\n",
       "NativeHI  0.949833  0.050167\n",
       "white     0.941353  0.058647"
      ]
     },
     "execution_count": 172,
     "metadata": {},
     "output_type": "execute_result"
    }
   ],
   "source": [
    "#CROSSTAB RACE\n",
    "#5% of white respondents has misused pain relievers in the last year.\n",
    "#5% of hispanics has misused pain relievers in the last year.\n",
    "#For all groups, but Asians, more that 5% have misused pain relievers.\n",
    "(pd.crosstab(df2015.race, df2015.pain_rel)).apply(lambda r: r/r.sum(), axis=1)"
   ]
  },
  {
   "cell_type": "code",
   "execution_count": 6,
   "metadata": {},
   "outputs": [
    {
     "data": {
      "image/png": "[encoded data removed]",
      "text/plain": [
       "<matplotlib.figure.Figure at 0x10f8f5f90>"
      ]
     },
     "metadata": {},
     "output_type": "display_data"
    }
   ],
   "source": [
    "sns.set_context(\"paper\", rc={\"font.size\":20,\"axes.titlesize\":20,\"axes.labelsize\":20}) \n",
    "plt.rcParams[\"axes.labelsize\"] = 20\n",
    "sns.set_context(\"talk\")\n",
    "fig_race = sns.countplot(x=\"race\", hue=\"pain_rel\", data=df2015, palette=\"Blues_d\");\n",
    "fig = fig_race.get_figure()\n",
    "fig.savefig('fig_race.png')"
   ]
  },
  {
   "cell_type": "code",
   "execution_count": 174,
   "metadata": {},
   "outputs": [
    {
     "data": {
      "text/html": [
       "<div>\n",
       "<style>\n",
       "    .dataframe thead tr:only-child th {\n",
       "        text-align: right;\n",
       "    }\n",
       "\n",
       "    .dataframe thead th {\n",
       "        text-align: left;\n",
       "    }\n",
       "\n",
       "    .dataframe tbody tr th {\n",
       "        vertical-align: top;\n",
       "    }\n",
       "</style>\n",
       "<table border=\"1\" class=\"dataframe\">\n",
       "  <thead>\n",
       "    <tr style=\"text-align: right;\">\n",
       "      <th>pain_rel</th>\n",
       "      <th>0</th>\n",
       "      <th>1</th>\n",
       "    </tr>\n",
       "    <tr>\n",
       "      <th>marital</th>\n",
       "      <th></th>\n",
       "      <th></th>\n",
       "    </tr>\n",
       "  </thead>\n",
       "  <tbody>\n",
       "    <tr>\n",
       "      <th>Divorced</th>\n",
       "      <td>0.937809</td>\n",
       "      <td>0.062191</td>\n",
       "    </tr>\n",
       "    <tr>\n",
       "      <th>child</th>\n",
       "      <td>0.976804</td>\n",
       "      <td>0.023196</td>\n",
       "    </tr>\n",
       "    <tr>\n",
       "      <th>married</th>\n",
       "      <td>0.962241</td>\n",
       "      <td>0.037759</td>\n",
       "    </tr>\n",
       "    <tr>\n",
       "      <th>never_married</th>\n",
       "      <td>0.923698</td>\n",
       "      <td>0.076302</td>\n",
       "    </tr>\n",
       "    <tr>\n",
       "      <th>widowed</th>\n",
       "      <td>0.942080</td>\n",
       "      <td>0.057920</td>\n",
       "    </tr>\n",
       "  </tbody>\n",
       "</table>\n",
       "</div>"
      ],
      "text/plain": [
       "pain_rel              0         1\n",
       "marital                          \n",
       "Divorced       0.937809  0.062191\n",
       "child          0.976804  0.023196\n",
       "married        0.962241  0.037759\n",
       "never_married  0.923698  0.076302\n",
       "widowed        0.942080  0.057920"
      ]
     },
     "execution_count": 174,
     "metadata": {},
     "output_type": "execute_result"
    }
   ],
   "source": [
    "#CROSSTAB MARITAL STATUS\n",
    "#Largest % (7%) of respondents that misused pain killers in the last year are among the \"never married\" group\n",
    "#Followed by divorced/separated\n",
    "(pd.crosstab(df2015.marital, df2015.pain_rel)).apply(lambda r: r/r.sum(), axis=1)"
   ]
  },
  {
   "cell_type": "code",
   "execution_count": 17,
   "metadata": {},
   "outputs": [
    {
     "data": {
      "image/png": "[encoded data removed]",
      "text/plain": [
       "<matplotlib.figure.Figure at 0x111c37690>"
      ]
     },
     "metadata": {},
     "output_type": "display_data"
    }
   ],
   "source": [
    "sns.set_context(\"paper\", rc={\"font.size\":20,\"axes.titlesize\":20,\"axes.labelsize\":20}) \n",
    "plt.rcParams[\"axes.labelsize\"] = 20\n",
    "sns.set_context(\"talk\")\n",
    "fig_marital = sns.countplot(x=\"marital\", hue=\"pain_rel\", data=df2015, palette=\"Blues_d\");\n",
    "fig = fig_marital.get_figure()\n",
    "fig.savefig('fig_marital.png')"
   ]
  },
  {
   "cell_type": "code",
   "execution_count": 8,
   "metadata": {},
   "outputs": [
    {
     "data": {
      "text/html": [
       "<div>\n",
       "<style>\n",
       "    .dataframe thead tr:only-child th {\n",
       "        text-align: right;\n",
       "    }\n",
       "\n",
       "    .dataframe thead th {\n",
       "        text-align: left;\n",
       "    }\n",
       "\n",
       "    .dataframe tbody tr th {\n",
       "        vertical-align: top;\n",
       "    }\n",
       "</style>\n",
       "<table border=\"1\" class=\"dataframe\">\n",
       "  <thead>\n",
       "    <tr style=\"text-align: right;\">\n",
       "      <th>pain_rel</th>\n",
       "      <th>0</th>\n",
       "      <th>1</th>\n",
       "    </tr>\n",
       "    <tr>\n",
       "      <th>income</th>\n",
       "      <th></th>\n",
       "      <th></th>\n",
       "    </tr>\n",
       "  </thead>\n",
       "  <tbody>\n",
       "    <tr>\n",
       "      <th>21-49000</th>\n",
       "      <td>0.937608</td>\n",
       "      <td>0.062392</td>\n",
       "    </tr>\n",
       "    <tr>\n",
       "      <th>50-74000</th>\n",
       "      <td>0.949655</td>\n",
       "      <td>0.050345</td>\n",
       "    </tr>\n",
       "    <tr>\n",
       "      <th>75000&gt;</th>\n",
       "      <td>0.954951</td>\n",
       "      <td>0.045049</td>\n",
       "    </tr>\n",
       "    <tr>\n",
       "      <th>&lt;20,000</th>\n",
       "      <td>0.931820</td>\n",
       "      <td>0.068180</td>\n",
       "    </tr>\n",
       "  </tbody>\n",
       "</table>\n",
       "</div>"
      ],
      "text/plain": [
       "pain_rel         0         1\n",
       "income                      \n",
       "21-49000  0.937608  0.062392\n",
       "50-74000  0.949655  0.050345\n",
       "75000>    0.954951  0.045049\n",
       "<20,000   0.931820  0.068180"
      ]
     },
     "execution_count": 8,
     "metadata": {},
     "output_type": "execute_result"
    }
   ],
   "source": [
    "#CROSSTAB INCOME\n",
    "#Largest % of respondents that misused pain killers in the last yr had an income <20,000usd\n",
    "(pd.crosstab(df2015.income, df2015.pain_rel)).apply(lambda r: r/r.sum(), axis=1)"
   ]
  },
  {
   "cell_type": "code",
   "execution_count": 9,
   "metadata": {},
   "outputs": [
    {
     "data": {
      "image/png": "[encoded data removed]",
      "text/plain": [
       "<matplotlib.figure.Figure at 0x1101f9dd0>"
      ]
     },
     "metadata": {},
     "output_type": "display_data"
    }
   ],
   "source": [
    "sns.set_context(\"paper\", rc={\"font.size\":20,\"axes.titlesize\":20,\"axes.labelsize\":20}) \n",
    "plt.rcParams[\"axes.labelsize\"] = 20\n",
    "sns.set_context(\"talk\")\n",
    "fig_income = sns.countplot(x=\"income\", hue=\"pain_rel\", data=df2015, palette=\"Blues_d\");\n",
    "fig = fig_income.get_figure()\n",
    "fig.savefig('fig_income.png')"
   ]
  },
  {
   "cell_type": "code",
   "execution_count": 178,
   "metadata": {},
   "outputs": [
    {
     "data": {
      "text/html": [
       "<div>\n",
       "<style>\n",
       "    .dataframe thead tr:only-child th {\n",
       "        text-align: right;\n",
       "    }\n",
       "\n",
       "    .dataframe thead th {\n",
       "        text-align: left;\n",
       "    }\n",
       "\n",
       "    .dataframe tbody tr th {\n",
       "        vertical-align: top;\n",
       "    }\n",
       "</style>\n",
       "<table border=\"1\" class=\"dataframe\">\n",
       "  <thead>\n",
       "    <tr style=\"text-align: right;\">\n",
       "      <th>pain_rel</th>\n",
       "      <th>0</th>\n",
       "      <th>1</th>\n",
       "    </tr>\n",
       "    <tr>\n",
       "      <th>work</th>\n",
       "      <th></th>\n",
       "      <th></th>\n",
       "    </tr>\n",
       "  </thead>\n",
       "  <tbody>\n",
       "    <tr>\n",
       "      <th>child</th>\n",
       "      <td>0.976804</td>\n",
       "      <td>0.023196</td>\n",
       "    </tr>\n",
       "    <tr>\n",
       "      <th>full_time</th>\n",
       "      <td>0.941790</td>\n",
       "      <td>0.058210</td>\n",
       "    </tr>\n",
       "    <tr>\n",
       "      <th>other</th>\n",
       "      <td>0.947856</td>\n",
       "      <td>0.052144</td>\n",
       "    </tr>\n",
       "    <tr>\n",
       "      <th>part_time</th>\n",
       "      <td>0.934029</td>\n",
       "      <td>0.065971</td>\n",
       "    </tr>\n",
       "    <tr>\n",
       "      <th>unemployed</th>\n",
       "      <td>0.901657</td>\n",
       "      <td>0.098343</td>\n",
       "    </tr>\n",
       "  </tbody>\n",
       "</table>\n",
       "</div>"
      ],
      "text/plain": [
       "pain_rel           0         1\n",
       "work                          \n",
       "child       0.976804  0.023196\n",
       "full_time   0.941790  0.058210\n",
       "other       0.947856  0.052144\n",
       "part_time   0.934029  0.065971\n",
       "unemployed  0.901657  0.098343"
      ]
     },
     "execution_count": 178,
     "metadata": {},
     "output_type": "execute_result"
    }
   ],
   "source": [
    "#CROSSTAB WORK\n",
    "#Largest % of respondents that misused pain killers in the last yr are part of the group \"other\"\n",
    "(pd.crosstab(df2015.work, df2015.pain_rel)).apply(lambda r: r/r.sum(), axis=1)"
   ]
  },
  {
   "cell_type": "code",
   "execution_count": 15,
   "metadata": {},
   "outputs": [
    {
     "data": {
      "image/png": "[encoded data removed]",
      "text/plain": [
       "<matplotlib.figure.Figure at 0x11675f350>"
      ]
     },
     "metadata": {},
     "output_type": "display_data"
    }
   ],
   "source": [
    "sns.set_context(\"paper\", rc={\"font.size\":20,\"axes.titlesize\":20,\"axes.labelsize\":20}) \n",
    "plt.rcParams[\"axes.labelsize\"] = 20\n",
    "sns.set_context(\"talk\")\n",
    "fig_work = sns.countplot(x=\"work\", hue=\"pain_rel\", data=df2015, palette=\"Blues_d\");\n",
    "fig = fig_work.get_figure()\n",
    "fig.savefig('fig_work.png')"
   ]
  },
  {
   "cell_type": "code",
   "execution_count": 180,
   "metadata": {},
   "outputs": [
    {
     "data": {
      "text/html": [
       "<div>\n",
       "<style>\n",
       "    .dataframe thead tr:only-child th {\n",
       "        text-align: right;\n",
       "    }\n",
       "\n",
       "    .dataframe thead th {\n",
       "        text-align: left;\n",
       "    }\n",
       "\n",
       "    .dataframe tbody tr th {\n",
       "        vertical-align: top;\n",
       "    }\n",
       "</style>\n",
       "<table border=\"1\" class=\"dataframe\">\n",
       "  <thead>\n",
       "    <tr style=\"text-align: right;\">\n",
       "      <th>pain_rel</th>\n",
       "      <th>0</th>\n",
       "      <th>1</th>\n",
       "    </tr>\n",
       "    <tr>\n",
       "      <th>sex</th>\n",
       "      <th></th>\n",
       "      <th></th>\n",
       "    </tr>\n",
       "  </thead>\n",
       "  <tbody>\n",
       "    <tr>\n",
       "      <th>female</th>\n",
       "      <td>0.948800</td>\n",
       "      <td>0.051200</td>\n",
       "    </tr>\n",
       "    <tr>\n",
       "      <th>male</th>\n",
       "      <td>0.938098</td>\n",
       "      <td>0.061902</td>\n",
       "    </tr>\n",
       "  </tbody>\n",
       "</table>\n",
       "</div>"
      ],
      "text/plain": [
       "pain_rel         0         1\n",
       "sex                         \n",
       "female    0.948800  0.051200\n",
       "male      0.938098  0.061902"
      ]
     },
     "execution_count": 180,
     "metadata": {},
     "output_type": "execute_result"
    }
   ],
   "source": [
    "#CROSSTAB SEX\n",
    "#Among men, 6% have misused pain killers in the last year.\n",
    "#Among women, 5% have misued pain killers in the last year\n",
    "(pd.crosstab(df2015.sex, df2015.pain_rel)).apply(lambda r: r/r.sum(), axis=1)"
   ]
  },
  {
   "cell_type": "code",
   "execution_count": 18,
   "metadata": {},
   "outputs": [
    {
     "data": {
      "image/png": "[encoded data removed]",
      "text/plain": [
       "<matplotlib.figure.Figure at 0x1112c7310>"
      ]
     },
     "metadata": {},
     "output_type": "display_data"
    }
   ],
   "source": [
    "sns.set_context(\"paper\", rc={\"font.size\":20,\"axes.titlesize\":20,\"axes.labelsize\":20}) \n",
    "plt.rcParams[\"axes.labelsize\"] = 20\n",
    "sns.set_context(\"talk\")\n",
    "fig_sex = sns.countplot(x=\"sex\", hue=\"pain_rel\", data=df2015, palette=\"Blues_d\");\n",
    "fig = fig_sex.get_figure()\n",
    "fig.savefig('fig_sex.png')"
   ]
  },
  {
   "cell_type": "code",
   "execution_count": 183,
   "metadata": {},
   "outputs": [
    {
     "data": {
      "text/html": [
       "<div>\n",
       "<style>\n",
       "    .dataframe thead tr:only-child th {\n",
       "        text-align: right;\n",
       "    }\n",
       "\n",
       "    .dataframe thead th {\n",
       "        text-align: left;\n",
       "    }\n",
       "\n",
       "    .dataframe tbody tr th {\n",
       "        vertical-align: top;\n",
       "    }\n",
       "</style>\n",
       "<table border=\"1\" class=\"dataframe\">\n",
       "  <thead>\n",
       "    <tr style=\"text-align: right;\">\n",
       "      <th>pain_rel</th>\n",
       "      <th>0</th>\n",
       "      <th>1</th>\n",
       "    </tr>\n",
       "    <tr>\n",
       "      <th>mrj</th>\n",
       "      <th></th>\n",
       "      <th></th>\n",
       "    </tr>\n",
       "  </thead>\n",
       "  <tbody>\n",
       "    <tr>\n",
       "      <th>0</th>\n",
       "      <td>0.968537</td>\n",
       "      <td>0.031463</td>\n",
       "    </tr>\n",
       "    <tr>\n",
       "      <th>1</th>\n",
       "      <td>0.828617</td>\n",
       "      <td>0.171383</td>\n",
       "    </tr>\n",
       "  </tbody>\n",
       "</table>\n",
       "</div>"
      ],
      "text/plain": [
       "pain_rel         0         1\n",
       "mrj                         \n",
       "0         0.968537  0.031463\n",
       "1         0.828617  0.171383"
      ]
     },
     "execution_count": 183,
     "metadata": {},
     "output_type": "execute_result"
    }
   ],
   "source": [
    "#Of those who used marijuana in the last year, 17% misused pain killers in the same time frame\n",
    "(pd.crosstab(df2015.mrj, df2015.pain_rel)).apply(lambda r: r/r.sum(), axis=1)"
   ]
  },
  {
   "cell_type": "code",
   "execution_count": 184,
   "metadata": {},
   "outputs": [
    {
     "data": {
      "text/html": [
       "<div>\n",
       "<style>\n",
       "    .dataframe thead tr:only-child th {\n",
       "        text-align: right;\n",
       "    }\n",
       "\n",
       "    .dataframe thead th {\n",
       "        text-align: left;\n",
       "    }\n",
       "\n",
       "    .dataframe tbody tr th {\n",
       "        vertical-align: top;\n",
       "    }\n",
       "</style>\n",
       "<table border=\"1\" class=\"dataframe\">\n",
       "  <thead>\n",
       "    <tr style=\"text-align: right;\">\n",
       "      <th>pain_rel</th>\n",
       "      <th>0</th>\n",
       "      <th>1</th>\n",
       "    </tr>\n",
       "    <tr>\n",
       "      <th>coc</th>\n",
       "      <th></th>\n",
       "      <th></th>\n",
       "    </tr>\n",
       "  </thead>\n",
       "  <tbody>\n",
       "    <tr>\n",
       "      <th>0</th>\n",
       "      <td>0.950980</td>\n",
       "      <td>0.049020</td>\n",
       "    </tr>\n",
       "    <tr>\n",
       "      <th>1</th>\n",
       "      <td>0.622702</td>\n",
       "      <td>0.377298</td>\n",
       "    </tr>\n",
       "  </tbody>\n",
       "</table>\n",
       "</div>"
      ],
      "text/plain": [
       "pain_rel         0         1\n",
       "coc                         \n",
       "0         0.950980  0.049020\n",
       "1         0.622702  0.377298"
      ]
     },
     "execution_count": 184,
     "metadata": {},
     "output_type": "execute_result"
    }
   ],
   "source": [
    "#Of those who used cocaine in the last year, 37% misused pain killers in the same time frame\n",
    "(pd.crosstab(df2015.coc, df2015.pain_rel)).apply(lambda r: r/r.sum(), axis=1)"
   ]
  },
  {
   "cell_type": "code",
   "execution_count": 185,
   "metadata": {},
   "outputs": [
    {
     "data": {
      "text/html": [
       "<div>\n",
       "<style>\n",
       "    .dataframe thead tr:only-child th {\n",
       "        text-align: right;\n",
       "    }\n",
       "\n",
       "    .dataframe thead th {\n",
       "        text-align: left;\n",
       "    }\n",
       "\n",
       "    .dataframe tbody tr th {\n",
       "        vertical-align: top;\n",
       "    }\n",
       "</style>\n",
       "<table border=\"1\" class=\"dataframe\">\n",
       "  <thead>\n",
       "    <tr style=\"text-align: right;\">\n",
       "      <th>pain_rel</th>\n",
       "      <th>0</th>\n",
       "      <th>1</th>\n",
       "    </tr>\n",
       "    <tr>\n",
       "      <th>crk</th>\n",
       "      <th></th>\n",
       "      <th></th>\n",
       "    </tr>\n",
       "  </thead>\n",
       "  <tbody>\n",
       "    <tr>\n",
       "      <th>0</th>\n",
       "      <td>0.945135</td>\n",
       "      <td>0.054865</td>\n",
       "    </tr>\n",
       "    <tr>\n",
       "      <th>1</th>\n",
       "      <td>0.440789</td>\n",
       "      <td>0.559211</td>\n",
       "    </tr>\n",
       "  </tbody>\n",
       "</table>\n",
       "</div>"
      ],
      "text/plain": [
       "pain_rel         0         1\n",
       "crk                         \n",
       "0         0.945135  0.054865\n",
       "1         0.440789  0.559211"
      ]
     },
     "execution_count": 185,
     "metadata": {},
     "output_type": "execute_result"
    }
   ],
   "source": [
    "#Of those who used crack in the last year, 55% misused pain killers in the same time frame\n",
    "(pd.crosstab(df2015.crk, df2015.pain_rel)).apply(lambda r: r/r.sum(), axis=1)"
   ]
  },
  {
   "cell_type": "code",
   "execution_count": 186,
   "metadata": {},
   "outputs": [
    {
     "data": {
      "text/html": [
       "<div>\n",
       "<style>\n",
       "    .dataframe thead tr:only-child th {\n",
       "        text-align: right;\n",
       "    }\n",
       "\n",
       "    .dataframe thead th {\n",
       "        text-align: left;\n",
       "    }\n",
       "\n",
       "    .dataframe tbody tr th {\n",
       "        vertical-align: top;\n",
       "    }\n",
       "</style>\n",
       "<table border=\"1\" class=\"dataframe\">\n",
       "  <thead>\n",
       "    <tr style=\"text-align: right;\">\n",
       "      <th>pain_rel</th>\n",
       "      <th>0</th>\n",
       "      <th>1</th>\n",
       "    </tr>\n",
       "    <tr>\n",
       "      <th>her</th>\n",
       "      <th></th>\n",
       "      <th></th>\n",
       "    </tr>\n",
       "  </thead>\n",
       "  <tbody>\n",
       "    <tr>\n",
       "      <th>0</th>\n",
       "      <td>0.946542</td>\n",
       "      <td>0.053458</td>\n",
       "    </tr>\n",
       "    <tr>\n",
       "      <th>1</th>\n",
       "      <td>0.242152</td>\n",
       "      <td>0.757848</td>\n",
       "    </tr>\n",
       "  </tbody>\n",
       "</table>\n",
       "</div>"
      ],
      "text/plain": [
       "pain_rel         0         1\n",
       "her                         \n",
       "0         0.946542  0.053458\n",
       "1         0.242152  0.757848"
      ]
     },
     "execution_count": 186,
     "metadata": {},
     "output_type": "execute_result"
    }
   ],
   "source": [
    "#Of those who used heroine in the last year, 75% misused pain killers in the same time frame\n",
    "(pd.crosstab(df2015.her, df2015.pain_rel)).apply(lambda r: r/r.sum(), axis=1)"
   ]
  },
  {
   "cell_type": "code",
   "execution_count": 187,
   "metadata": {},
   "outputs": [
    {
     "data": {
      "text/html": [
       "<div>\n",
       "<style>\n",
       "    .dataframe thead tr:only-child th {\n",
       "        text-align: right;\n",
       "    }\n",
       "\n",
       "    .dataframe thead th {\n",
       "        text-align: left;\n",
       "    }\n",
       "\n",
       "    .dataframe tbody tr th {\n",
       "        vertical-align: top;\n",
       "    }\n",
       "</style>\n",
       "<table border=\"1\" class=\"dataframe\">\n",
       "  <thead>\n",
       "    <tr style=\"text-align: right;\">\n",
       "      <th>pain_rel</th>\n",
       "      <th>0</th>\n",
       "      <th>1</th>\n",
       "    </tr>\n",
       "    <tr>\n",
       "      <th>tranq</th>\n",
       "      <th></th>\n",
       "      <th></th>\n",
       "    </tr>\n",
       "  </thead>\n",
       "  <tbody>\n",
       "    <tr>\n",
       "      <th>0</th>\n",
       "      <td>0.957210</td>\n",
       "      <td>0.042790</td>\n",
       "    </tr>\n",
       "    <tr>\n",
       "      <th>1</th>\n",
       "      <td>0.476489</td>\n",
       "      <td>0.523511</td>\n",
       "    </tr>\n",
       "  </tbody>\n",
       "</table>\n",
       "</div>"
      ],
      "text/plain": [
       "pain_rel         0         1\n",
       "tranq                       \n",
       "0         0.957210  0.042790\n",
       "1         0.476489  0.523511"
      ]
     },
     "execution_count": 187,
     "metadata": {},
     "output_type": "execute_result"
    }
   ],
   "source": [
    "#Of those who used tranquilizers in the last year, 52% misused pain killers in the same time frame\n",
    "(pd.crosstab(df2015.tranq, df2015.pain_rel)).apply(lambda r: r/r.sum(), axis=1)"
   ]
  },
  {
   "cell_type": "code",
   "execution_count": 188,
   "metadata": {},
   "outputs": [
    {
     "data": {
      "text/html": [
       "<div>\n",
       "<style>\n",
       "    .dataframe thead tr:only-child th {\n",
       "        text-align: right;\n",
       "    }\n",
       "\n",
       "    .dataframe thead th {\n",
       "        text-align: left;\n",
       "    }\n",
       "\n",
       "    .dataframe tbody tr th {\n",
       "        vertical-align: top;\n",
       "    }\n",
       "</style>\n",
       "<table border=\"1\" class=\"dataframe\">\n",
       "  <thead>\n",
       "    <tr style=\"text-align: right;\">\n",
       "      <th>pain_rel</th>\n",
       "      <th>0</th>\n",
       "      <th>1</th>\n",
       "    </tr>\n",
       "    <tr>\n",
       "      <th>stim</th>\n",
       "      <th></th>\n",
       "      <th></th>\n",
       "    </tr>\n",
       "  </thead>\n",
       "  <tbody>\n",
       "    <tr>\n",
       "      <th>0</th>\n",
       "      <td>0.953799</td>\n",
       "      <td>0.046201</td>\n",
       "    </tr>\n",
       "    <tr>\n",
       "      <th>1</th>\n",
       "      <td>0.624424</td>\n",
       "      <td>0.375576</td>\n",
       "    </tr>\n",
       "  </tbody>\n",
       "</table>\n",
       "</div>"
      ],
      "text/plain": [
       "pain_rel         0         1\n",
       "stim                        \n",
       "0         0.953799  0.046201\n",
       "1         0.624424  0.375576"
      ]
     },
     "execution_count": 188,
     "metadata": {},
     "output_type": "execute_result"
    }
   ],
   "source": [
    "#Of those who used stimulants in the last year, 37% misused pain killers in the same time frame\n",
    "(pd.crosstab(df2015.stim, df2015.pain_rel)).apply(lambda r: r/r.sum(), axis=1)"
   ]
  },
  {
   "cell_type": "code",
   "execution_count": 189,
   "metadata": {},
   "outputs": [
    {
     "data": {
      "text/html": [
       "<div>\n",
       "<style>\n",
       "    .dataframe thead tr:only-child th {\n",
       "        text-align: right;\n",
       "    }\n",
       "\n",
       "    .dataframe thead th {\n",
       "        text-align: left;\n",
       "    }\n",
       "\n",
       "    .dataframe tbody tr th {\n",
       "        vertical-align: top;\n",
       "    }\n",
       "</style>\n",
       "<table border=\"1\" class=\"dataframe\">\n",
       "  <thead>\n",
       "    <tr style=\"text-align: right;\">\n",
       "      <th>pain_rel</th>\n",
       "      <th>0</th>\n",
       "      <th>1</th>\n",
       "    </tr>\n",
       "    <tr>\n",
       "      <th>sed</th>\n",
       "      <th></th>\n",
       "      <th></th>\n",
       "    </tr>\n",
       "  </thead>\n",
       "  <tbody>\n",
       "    <tr>\n",
       "      <th>0</th>\n",
       "      <td>0.946574</td>\n",
       "      <td>0.053426</td>\n",
       "    </tr>\n",
       "    <tr>\n",
       "      <th>1</th>\n",
       "      <td>0.476331</td>\n",
       "      <td>0.523669</td>\n",
       "    </tr>\n",
       "  </tbody>\n",
       "</table>\n",
       "</div>"
      ],
      "text/plain": [
       "pain_rel         0         1\n",
       "sed                         \n",
       "0         0.946574  0.053426\n",
       "1         0.476331  0.523669"
      ]
     },
     "execution_count": 189,
     "metadata": {},
     "output_type": "execute_result"
    }
   ],
   "source": [
    "#Of those who used sedatives in the last year, 52% misused pain killers in the same time frame\n",
    "(pd.crosstab(df2015.sed, df2015.pain_rel)).apply(lambda r: r/r.sum(), axis=1)"
   ]
  },
  {
   "cell_type": "markdown",
   "metadata": {},
   "source": [
    "## <font color=blue>Model</font>\n",
    "* **Outcome**: misuse of pain relievers in the past year\n",
    "* **Predictor variables**: age, sex, income level, marital status, work status, use of other substances (crack, heroin, tranquilizers, stimulants, sedatives) in the last year"
   ]
  },
  {
   "cell_type": "markdown",
   "metadata": {},
   "source": [
    "### Logistic Regression:\n",
    "Performs well, however, given that this model aims to minimize the overall error rate, rather than paying attention to the positive cases, we need another model."
   ]
  },
  {
   "cell_type": "code",
   "execution_count": 10,
   "metadata": {
    "collapsed": true
   },
   "outputs": [],
   "source": [
    "remove = ['tranq','mrj','coc','stim','oxy','pain_rel','illegal_drug’,’oxy','illegal_drug','demyr','hydmyr','methdyr','fentyr','oxyyr','tramyr','morphyr','fentyr','bupryr','oxymyr','demyr','hydmyr','methdyr']"
   ]
  },
  {
   "cell_type": "code",
   "execution_count": 11,
   "metadata": {
    "collapsed": true
   },
   "outputs": [],
   "source": [
    "dummies = ['age','race','marital','income','work','sex']\n",
    "\n",
    "df2015 = pd.get_dummies(df2015, prefix = dummies, columns = dummies)"
   ]
  },
  {
   "cell_type": "code",
   "execution_count": 12,
   "metadata": {
    "collapsed": true
   },
   "outputs": [],
   "source": [
    "#Variable values with highest frequency will be the references\n",
    "references = ['age_35_and_over','marital_never_married','work_full_time','income_75000>','sex_female']"
   ]
  },
  {
   "cell_type": "code",
   "execution_count": 19,
   "metadata": {
    "collapsed": true
   },
   "outputs": [],
   "source": [
    "#Create an X and a Y\n",
    "feature_names = [x for x in df2015.columns if x not in remove and x not in references]\n",
    "X = df2015[feature_names]\n",
    "y = df2015.pain_rel"
   ]
  },
  {
   "cell_type": "code",
   "execution_count": 20,
   "metadata": {},
   "outputs": [
    {
     "data": {
      "text/plain": [
       "['crk',\n",
       " 'her',\n",
       " 'sed',\n",
       " 'age_12_13',\n",
       " 'age_14_15',\n",
       " 'age_16_17',\n",
       " 'age_18_20',\n",
       " 'age_21_25',\n",
       " 'age_26_34',\n",
       " 'race_>1race',\n",
       " 'race_AfrAm',\n",
       " 'race_Asian',\n",
       " 'race_Hispanic',\n",
       " 'race_NatAm',\n",
       " 'race_NativeHI',\n",
       " 'race_white',\n",
       " 'marital_Divorced',\n",
       " 'marital_child',\n",
       " 'marital_married',\n",
       " 'marital_widowed',\n",
       " 'income_21-49000',\n",
       " 'income_50-74000',\n",
       " 'income_<20,000',\n",
       " 'work_child',\n",
       " 'work_other',\n",
       " 'work_part_time',\n",
       " 'work_unemployed',\n",
       " 'sex_male']"
      ]
     },
     "execution_count": 20,
     "metadata": {},
     "output_type": "execute_result"
    }
   ],
   "source": [
    "feature_names"
   ]
  },
  {
   "cell_type": "code",
   "execution_count": 21,
   "metadata": {},
   "outputs": [
    {
     "name": "stdout",
     "output_type": "stream",
     "text": [
      "(57146, 28)\n",
      "(57146,)\n",
      "(42859, 28)\n",
      "(14287, 28)\n",
      "(42859,)\n",
      "(14287,)\n"
     ]
    }
   ],
   "source": [
    "#Split the data into training and testing sets\n",
    "print(X.shape)\n",
    "print(y.shape)\n",
    "\n",
    "X_train, X_test, y_train, y_test = train_test_split(X, y, random_state=1)\n",
    "print(X_train.shape)\n",
    "print(X_test.shape)\n",
    "print(y_train.shape)\n",
    "print(y_test.shape)"
   ]
  },
  {
   "cell_type": "markdown",
   "metadata": {},
   "source": [
    "### Logistic regression"
   ]
  },
  {
   "cell_type": "code",
   "execution_count": 142,
   "metadata": {},
   "outputs": [
    {
     "data": {
      "text/plain": [
       "[('crk', 2.0990147247708184),\n",
       " ('her', 3.2233026765986237),\n",
       " ('sed', 2.9010138209656744),\n",
       " ('age_12_13', -0.48017297479632448),\n",
       " ('age_14_15', 0.0020118083946202734),\n",
       " ('age_16_17', 0.14763573873337441),\n",
       " ('age_18_20', 0.47838299016696978),\n",
       " ('age_21_25', 0.64862845922758339),\n",
       " ('age_26_34', 0.49667585484224536),\n",
       " ('race_>1race', -0.025985080219771188),\n",
       " ('race_AfrAm', -0.48629666203713712),\n",
       " ('race_Asian', -1.1156228925935976),\n",
       " ('race_Hispanic', -0.35233498621641546),\n",
       " ('race_NatAm', -0.14893822791039821),\n",
       " ('race_NativeHI', -0.58225230500607439),\n",
       " ('race_white', -0.20207692129800889),\n",
       " ('marital_Divorced', 0.049638484171977346),\n",
       " ('marital_child', -0.25667196696070749),\n",
       " ('marital_married', -0.44532272239927051),\n",
       " ('marital_widowed', 0.049025212932481056),\n",
       " ('income_21-49000', 0.14435037869361489),\n",
       " ('income_50-74000', -0.0019008685799821855),\n",
       " ('income_>20,000', 0.13668501637102817),\n",
       " ('work_child', -0.25667196696070749),\n",
       " ('work_other', -0.11272989486459224),\n",
       " ('work_part_time', 0.0063867860998597812),\n",
       " ('work_unemployed', 0.30171791814429583),\n",
       " ('sex_male', 0.19042008849737382)]"
      ]
     },
     "execution_count": 142,
     "metadata": {},
     "output_type": "execute_result"
    }
   ],
   "source": [
    "#Fit a logistic regression model\n",
    "logreg = LogisticRegression()\n",
    "logreg.fit(X_train, y_train)\n",
    "zip(feature_names, logreg.coef_[0])"
   ]
  },
  {
   "cell_type": "code",
   "execution_count": 143,
   "metadata": {},
   "outputs": [
    {
     "name": "stdout",
     "output_type": "stream",
     "text": [
      "[-2.91350708]\n"
     ]
    }
   ],
   "source": [
    "print(logreg.intercept_)"
   ]
  },
  {
   "cell_type": "code",
   "execution_count": 144,
   "metadata": {},
   "outputs": [
    {
     "name": "stdout",
     "output_type": "stream",
     "text": [
      "0.946034856863\n",
      "0.684871351336\n"
     ]
    }
   ],
   "source": [
    "# predict class labels for the test set\n",
    "y_pred_class_log = logreg.predict(X_test)\n",
    "\n",
    "# generate class probabilities\n",
    "probs_log = logreg.predict_proba(X_test)\n",
    "\n",
    "# generate evaluation metrics\n",
    "print metrics.accuracy_score(y_test, y_pred_class_log)\n",
    "print metrics.roc_auc_score(y_test, probs_log[:, 1])"
   ]
  },
  {
   "cell_type": "markdown",
   "metadata": {},
   "source": [
    "Classification accuracy (percentage of correct predictions)is 68%"
   ]
  },
  {
   "cell_type": "code",
   "execution_count": 61,
   "metadata": {},
   "outputs": [
    {
     "data": {
      "text/plain": [
       "0.9444250017498426"
      ]
     },
     "execution_count": 61,
     "metadata": {},
     "output_type": "execute_result"
    }
   ],
   "source": [
    "#Compare your testing accuracy to the null accuracy\n",
    "#A model that always predicts 0 would be right 94% of the time\n",
    "max(y_test.mean(), 1 - y_test.mean())"
   ]
  },
  {
   "cell_type": "code",
   "execution_count": 62,
   "metadata": {},
   "outputs": [
    {
     "name": "stdout",
     "output_type": "stream",
     "text": [
      "[[13450    43]\n",
      " [  728    66]]\n"
     ]
    }
   ],
   "source": [
    "# Confusion matrix\n",
    "print(metrics.confusion_matrix(y_test, y_pred_class))"
   ]
  },
  {
   "cell_type": "code",
   "execution_count": 63,
   "metadata": {},
   "outputs": [
    {
     "name": "stdout",
     "output_type": "stream",
     "text": [
      "('True Positives:', 66)\n",
      "('True Negatives:', 13450)\n",
      "('False Positives:', 43)\n",
      "('False Negatives:', 728)\n"
     ]
    }
   ],
   "source": [
    "#For this case:\n",
    "    #positive is misuse of pain relievers\n",
    "    #negative is non misuse of pain relievers\n",
    "confusion = metrics.confusion_matrix(y_test, y_pred_class)\n",
    "TP = confusion[1][1]\n",
    "TN = confusion[0][0]\n",
    "FP = confusion[0][1]\n",
    "FN = confusion[1][0]\n",
    "\n",
    "\n",
    "print('True Positives:', TP)\n",
    "print('True Negatives:', TN)\n",
    "print('False Positives:', FP)\n",
    "print('False Negatives:', FN)"
   ]
  },
  {
   "cell_type": "code",
   "execution_count": 64,
   "metadata": {},
   "outputs": [
    {
     "name": "stdout",
     "output_type": "stream",
     "text": [
      "0.946034856863\n"
     ]
    }
   ],
   "source": [
    "#Accuracy: Overall, how often is the classifier correct?\n",
    "#0.94: good. We want this number to be high\n",
    "print(float(TP + TN))/ len(y_test)"
   ]
  },
  {
   "cell_type": "code",
   "execution_count": 65,
   "metadata": {},
   "outputs": [
    {
     "name": "stdout",
     "output_type": "stream",
     "text": [
      "0.0539651431371\n"
     ]
    }
   ],
   "source": [
    "#Misclassification Rate: Overall, how often is it wrong?\n",
    "#.05: good. We want this number to be low\n",
    "print(float(FP + FN))/ len(y_test)"
   ]
  },
  {
   "cell_type": "code",
   "execution_count": 66,
   "metadata": {},
   "outputs": [
    {
     "name": "stdout",
     "output_type": "stream",
     "text": [
      "0.0831234256927\n"
     ]
    }
   ],
   "source": [
    "#Sensitivity: \n",
    "#When there is actual misuse of pain relievers, how often does the model predict it? 8% of the times\n",
    "#Not good\n",
    "print(TP / float(TP + FN))"
   ]
  },
  {
   "cell_type": "code",
   "execution_count": 67,
   "metadata": {},
   "outputs": [
    {
     "name": "stdout",
     "output_type": "stream",
     "text": [
      "0.99681316238\n"
     ]
    }
   ],
   "source": [
    "# Specificity:\n",
    "#When there was no misuse of pain relievers, how often does the model predict it? 99% of the times\n",
    "print(TN / float(TN + FP))"
   ]
  },
  {
   "cell_type": "code",
   "execution_count": 68,
   "metadata": {},
   "outputs": [
    {
     "name": "stdout",
     "output_type": "stream",
     "text": [
      "0.605504587156\n"
     ]
    }
   ],
   "source": [
    "#Precision: When it predicts misuse, how often is it correct? 60% of the times\n",
    "print(TP / float(FP + TP))"
   ]
  },
  {
   "cell_type": "code",
   "execution_count": 69,
   "metadata": {},
   "outputs": [
    {
     "name": "stdout",
     "output_type": "stream",
     "text": [
      "0.00318683761951\n"
     ]
    }
   ],
   "source": [
    "#False Positive Rate: When it's actually non misuse, how often does it predict misuse? 0.3% of the time\n",
    "print(FP / float(TN + FP))"
   ]
  },
  {
   "cell_type": "markdown",
   "metadata": {},
   "source": [
    "### Random Forest: "
   ]
  },
  {
   "cell_type": "code",
   "execution_count": 22,
   "metadata": {
    "collapsed": true
   },
   "outputs": [],
   "source": [
    "rf = RandomForestClassifier()"
   ]
  },
  {
   "cell_type": "code",
   "execution_count": 23,
   "metadata": {},
   "outputs": [
    {
     "data": {
      "text/plain": [
       "RandomForestClassifier(bootstrap=True, class_weight=None, criterion='gini',\n",
       "            max_depth=None, max_features='auto', max_leaf_nodes=None,\n",
       "            min_impurity_split=1e-07, min_samples_leaf=1,\n",
       "            min_samples_split=2, min_weight_fraction_leaf=0.0,\n",
       "            n_estimators=10, n_jobs=1, oob_score=False, random_state=None,\n",
       "            verbose=0, warm_start=False)"
      ]
     },
     "execution_count": 23,
     "metadata": {},
     "output_type": "execute_result"
    }
   ],
   "source": [
    "rf.fit(X_train, y_train)"
   ]
  },
  {
   "cell_type": "code",
   "execution_count": 24,
   "metadata": {},
   "outputs": [
    {
     "name": "stdout",
     "output_type": "stream",
     "text": [
      "Accuracy: 0.950\n",
      "Accuracy: 0.945\n"
     ]
    }
   ],
   "source": [
    "print \"Accuracy: %0.3f\" % rf.score(X_train, y_train)\n",
    "\n",
    "# Evaluate model on test set\n",
    "print \"Accuracy: %0.3f\" % rf.score(X_test, y_test)"
   ]
  },
  {
   "cell_type": "code",
   "execution_count": 25,
   "metadata": {
    "collapsed": true
   },
   "outputs": [],
   "source": [
    "tuned_parameters = [{'max_features': ['sqrt','log2','auto'], 'n_estimators': [100,150,200],\n",
    "                      'min_samples_leaf': [1, 5],\n",
    "                     'n_jobs': [-1], 'random_state': [142],\n",
    "                     'criterion':['gini','entropy']}]"
   ]
  },
  {
   "cell_type": "code",
   "execution_count": 26,
   "metadata": {
    "collapsed": true
   },
   "outputs": [],
   "source": [
    "gs = GridSearchCV(estimator = rf, param_grid = tuned_parameters,\n",
    "                  n_jobs=-1, verbose = True, cv=5)"
   ]
  },
  {
   "cell_type": "code",
   "execution_count": 27,
   "metadata": {},
   "outputs": [
    {
     "name": "stdout",
     "output_type": "stream",
     "text": [
      "Fitting 5 folds for each of 36 candidates, totalling 180 fits\n"
     ]
    },
    {
     "name": "stderr",
     "output_type": "stream",
     "text": [
      "[Parallel(n_jobs=-1)]: Done  42 tasks      | elapsed:  2.3min\n",
      "[Parallel(n_jobs=-1)]: Done 180 out of 180 | elapsed: 12.1min finished\n"
     ]
    },
    {
     "data": {
      "text/plain": [
       "GridSearchCV(cv=5, error_score='raise',\n",
       "       estimator=RandomForestClassifier(bootstrap=True, class_weight=None, criterion='gini',\n",
       "            max_depth=None, max_features='auto', max_leaf_nodes=None,\n",
       "            min_impurity_split=1e-07, min_samples_leaf=1,\n",
       "            min_samples_split=2, min_weight_fraction_leaf=0.0,\n",
       "            n_estimators=10, n_jobs=1, oob_score=False, random_state=None,\n",
       "            verbose=0, warm_start=False),\n",
       "       fit_params={}, iid=True, n_jobs=-1,\n",
       "       param_grid=[{'n_jobs': [-1], 'min_samples_leaf': [1, 5], 'n_estimators': [100, 150, 200], 'random_state': [142], 'criterion': ['gini', 'entropy'], 'max_features': ['sqrt', 'log2', 'auto']}],\n",
       "       pre_dispatch='2*n_jobs', refit=True, return_train_score=True,\n",
       "       scoring=None, verbose=True)"
      ]
     },
     "execution_count": 27,
     "metadata": {},
     "output_type": "execute_result"
    }
   ],
   "source": [
    "gs.fit(X, y)"
   ]
  },
  {
   "cell_type": "code",
   "execution_count": 28,
   "metadata": {},
   "outputs": [
    {
     "name": "stdout",
     "output_type": "stream",
     "text": [
      "Best Params:\n",
      "{'n_jobs': -1, 'min_samples_leaf': 5, 'n_estimators': 150, 'random_state': 142, 'criterion': 'entropy', 'max_features': 'sqrt'}\n"
     ]
    }
   ],
   "source": [
    "# Get best value to use\n",
    "print \"Best Params:\"\n",
    "print gs.best_params_"
   ]
  },
  {
   "cell_type": "code",
   "execution_count": 29,
   "metadata": {},
   "outputs": [
    {
     "name": "stdout",
     "output_type": "stream",
     "text": [
      "0.946778972911\n"
     ]
    }
   ],
   "source": [
    "print gs.score(X_train,y_train)"
   ]
  },
  {
   "cell_type": "code",
   "execution_count": 30,
   "metadata": {},
   "outputs": [
    {
     "data": {
      "text/plain": [
       "<matplotlib.legend.Legend at 0x11cc96990>"
      ]
     },
     "execution_count": 30,
     "metadata": {},
     "output_type": "execute_result"
    },
    {
     "data": {
      "image/png": "[encoded data removed]",
      "text/plain": [
       "<matplotlib.figure.Figure at 0x11b824ed0>"
      ]
     },
     "metadata": {},
     "output_type": "display_data"
    }
   ],
   "source": [
    "#Calibration plot (reliability curve) based on the best parameters\n",
    "#Graph a classifier's scores against true probabilities. \n",
    "#The classifier is well calibrated if the scores correspond well with probability estimates\n",
    "\n",
    "params = {'n_jobs': -1,\n",
    "          'min_samples_leaf': 5,\n",
    "          'n_estimators': 150,\n",
    "          'random_state': 142,\n",
    "          'criterion': 'entropy',\n",
    "          'max_features': 'sqrt'}\n",
    "\n",
    "\n",
    "rf = RandomForestClassifier(**params)\n",
    "rf.fit(X_train,y_train)\n",
    "\n",
    "\n",
    "plt.figure(figsize=(9, 9))\n",
    "ax1 = plt.subplot2grid((3, 1), (0, 0), rowspan=2)\n",
    "ax2 = plt.subplot2grid((3, 1), (2, 0))\n",
    "\n",
    "ax1.plot([0, 1], [0, 1], \"k:\", label=\"Perfectly calibrated\")\n",
    "\n",
    "for clf, name in [(rf, 'Random Forest')]:\n",
    "    # clf.fit(X_train, y_train)\n",
    "    if hasattr(clf, \"predict_proba\"):\n",
    "        prob_pos = clf.predict_proba(X_test)[:, 1]\n",
    "    else:  # use decision function\n",
    "        prob_pos = clf.decision_function(X_test)\n",
    "        prob_pos = \\\n",
    "            (prob_pos - prob_pos.min()) / (prob_pos.max() - prob_pos.min())\n",
    "    fraction_of_positives, mean_predicted_value = \\\n",
    "        calibration_curve(y_test, prob_pos, n_bins=20)\n",
    "\n",
    "    ax1.plot(mean_predicted_value, fraction_of_positives, \"s-\",\n",
    "             label=\"%s\" % (name, ))\n",
    "\n",
    "    ax2.hist(prob_pos, range=(0, 1), bins=10, label=name,\n",
    "             histtype=\"step\", lw=2)\n",
    "\n",
    "ax1.set_ylabel(\"Fraction of positives\")\n",
    "ax1.set_ylim([-0.05, 1.05])\n",
    "ax1.legend(loc=\"lower right\")\n",
    "ax1.set_title('Calibration plots  (reliability curve)')\n",
    "\n",
    "ax2.set_xlabel(\"Mean predicted value\")\n",
    "ax2.set_ylabel(\"Count\")\n",
    "ax2.legend(loc=\"upper center\", ncol=2)"
   ]
  },
  {
   "cell_type": "code",
   "execution_count": 31,
   "metadata": {},
   "outputs": [
    {
     "data": {
      "text/plain": [
       "<matplotlib.axes._subplots.AxesSubplot at 0x11b81e950>"
      ]
     },
     "execution_count": 31,
     "metadata": {},
     "output_type": "execute_result"
    },
    {
     "data": {
      "image/png": "[encoded data removed]",
      "text/plain": [
       "<matplotlib.figure.Figure at 0x11be03c90>"
      ]
     },
     "metadata": {},
     "output_type": "display_data"
    }
   ],
   "source": [
    "features = X.columns\n",
    "feature_importances = rf.feature_importances_\n",
    "\n",
    "features_df = pd.DataFrame({'Features': features, 'Importance Score': feature_importances})\n",
    "features_df.sort_values('Importance Score', inplace=True, ascending=False)\n",
    "sns.set_context(\"talk\", rc={\"font.size\":12,\"axes.titlesize\":12,\"axes.labelsize\":10}) \n",
    "sns.barplot(y='Features', x='Importance Score', data=features_df, orient=\"h\",)"
   ]
  },
  {
   "cell_type": "code",
   "execution_count": 32,
   "metadata": {
    "collapsed": true
   },
   "outputs": [],
   "source": [
    "def combine_dummies(dummy_prefixes):\n",
    "    for p in dummy_prefixes:\n",
    "        sub_keys = filter(lambda x: x.startswith(p), feature_dict)\n",
    "        sub_keys_sum = sum([feature_dict[x] for x in sub_keys])\n",
    "        for k in sub_keys: feature_dict.pop(k)\n",
    "        feature_dict[p] = sub_keys_sum\n",
    "    return feature_dict"
   ]
  },
  {
   "cell_type": "code",
   "execution_count": 34,
   "metadata": {
    "scrolled": false
   },
   "outputs": [
    {
     "data": {
      "text/plain": [
       "<matplotlib.axes._subplots.AxesSubplot at 0x1169d83d0>"
      ]
     },
     "execution_count": 34,
     "metadata": {},
     "output_type": "execute_result"
    },
    {
     "data": {
      "image/png": "[encoded data removed]",
      "text/plain": [
       "<matplotlib.figure.Figure at 0x11cc9f390>"
      ]
     },
     "metadata": {},
     "output_type": "display_data"
    }
   ],
   "source": [
    "# Plot importances with dummy features combined\n",
    "feature_names = X.columns\n",
    "feature_importances = rf.feature_importances_\n",
    "feature_dummy_prefixes = ['income_','work_','race_','marital_','age_']\n",
    "\n",
    "feature_dict = dict(zip(feature_names, feature_importances))\n",
    "feature_dict = combine_dummies(feature_dummy_prefixes)\n",
    "\n",
    "features_df = pd.DataFrame(feature_dict.items(), columns=['Features', 'Importance Score'])\n",
    "features_df.sort_values('Importance Score', inplace=True, ascending=False)\n",
    "\n",
    "sns.barplot(y='Features', x='Importance Score', data=features_df)"
   ]
  },
  {
   "cell_type": "markdown",
   "metadata": {
    "collapsed": true
   },
   "source": [
    "### How do both models compare:"
   ]
  },
  {
   "cell_type": "code",
   "execution_count": 155,
   "metadata": {},
   "outputs": [
    {
     "name": "stdout",
     "output_type": "stream",
     "text": [
      "0.946034856863\n",
      "0.684871351336\n",
      "0.946174844264\n",
      "0.669100136072\n"
     ]
    }
   ],
   "source": [
    "# predict class labels for the test set\n",
    "y_pred_class_log = logreg.predict(X_test)\n",
    "y_pred_class_rf = rf.predict(X_test)\n",
    "# generate class probabilities\n",
    "probs_log = logreg.predict_proba(X_test)\n",
    "probs_rf = rf.predict_proba(X_test)\n",
    "# generate evaluation metrics\n",
    "print metrics.accuracy_score(y_test, y_pred_class_log)\n",
    "print metrics.roc_auc_score(y_test, probs_log[:, 1])\n",
    "print metrics.accuracy_score(y_test, y_pred_class_rf)\n",
    "print metrics.roc_auc_score(y_test, probs_rf[:, 1])"
   ]
  },
  {
   "cell_type": "code",
   "execution_count": 156,
   "metadata": {
    "collapsed": true
   },
   "outputs": [],
   "source": [
    "logreg_scores = cross_val_score(logreg, X, y, cv=5)\n",
    "rf_scores = cross_val_score(rf, X, y, cv=5)"
   ]
  },
  {
   "cell_type": "code",
   "execution_count": 157,
   "metadata": {},
   "outputs": [
    {
     "name": "stdout",
     "output_type": "stream",
     "text": [
      "0.946365423639\n",
      "0.94603295295\n"
     ]
    }
   ],
   "source": [
    "#Similar scores\n",
    "print logreg_scores.mean()\n",
    "print rf_scores.mean()"
   ]
  },
  {
   "cell_type": "markdown",
   "metadata": {},
   "source": [
    "Logistic Regression classification accuracy is 68%.\n",
    "Random Forest classification accuracy is 66%."
   ]
  },
  {
   "cell_type": "markdown",
   "metadata": {},
   "source": [
    "### What to do with our inbalanced dataset?\n",
    "Most classification algorithms will only perform optimally when the number of samples of each class is roughly the same. Highly skewed datasets, where the minority is heavily outnumbered by one or more classes, have proven to be a challenge while at the same time becoming more and more common."
   ]
  },
  {
   "cell_type": "code",
   "execution_count": 158,
   "metadata": {},
   "outputs": [
    {
     "data": {
      "text/plain": [
       "array([0, 0, 0, 0, 0, 0, 0, 0, 0, 0])"
      ]
     },
     "execution_count": 158,
     "metadata": {},
     "output_type": "execute_result"
    }
   ],
   "source": [
    "# print the first 10 predicted responses\n",
    "# 1D array (vector) of binary values (0, 1)\n",
    "logreg.predict(X_test)[0:10]"
   ]
  },
  {
   "cell_type": "code",
   "execution_count": 159,
   "metadata": {},
   "outputs": [
    {
     "data": {
      "text/plain": [
       "array([[ 0.94653652,  0.05346348],\n",
       "       [ 0.91704349,  0.08295651],\n",
       "       [ 0.97237195,  0.02762805],\n",
       "       [ 0.97456834,  0.02543166],\n",
       "       [ 0.9768986 ,  0.0231014 ],\n",
       "       [ 0.9386453 ,  0.0613547 ],\n",
       "       [ 0.9812541 ,  0.0187459 ],\n",
       "       [ 0.95537253,  0.04462747],\n",
       "       [ 0.94736275,  0.05263725],\n",
       "       [ 0.92939992,  0.07060008]])"
      ]
     },
     "execution_count": 159,
     "metadata": {},
     "output_type": "execute_result"
    }
   ],
   "source": [
    "# print the first 10 predicted probabilities of class membership\n",
    "logreg.predict_proba(X_test)[0:10]"
   ]
  },
  {
   "cell_type": "code",
   "execution_count": 160,
   "metadata": {},
   "outputs": [
    {
     "data": {
      "text/plain": [
       "array([ 0.05346348,  0.08295651,  0.02762805,  0.02543166,  0.0231014 ,\n",
       "        0.0613547 ,  0.0187459 ,  0.04462747,  0.05263725,  0.07060008])"
      ]
     },
     "execution_count": 160,
     "metadata": {},
     "output_type": "execute_result"
    }
   ],
   "source": [
    "# print the first 10 predicted probabilities for class 1\n",
    "logreg.predict_proba(X_test)[0:10, 1]"
   ]
  },
  {
   "cell_type": "code",
   "execution_count": 161,
   "metadata": {
    "collapsed": true
   },
   "outputs": [],
   "source": [
    "# store the predicted probabilities for class 1\n",
    "y_pred_prob = logreg.predict_proba(X_test)[:, 1]"
   ]
  },
  {
   "cell_type": "code",
   "execution_count": 163,
   "metadata": {},
   "outputs": [
    {
     "data": {
      "text/plain": [
       "<matplotlib.text.Text at 0x11f80ad50>"
      ]
     },
     "execution_count": 163,
     "metadata": {},
     "output_type": "execute_result"
    },
    {
     "data": {
      "image/png": "[encoded data removed]",
      "text/plain": [
       "<matplotlib.figure.Figure at 0x12029b9d0>"
      ]
     },
     "metadata": {},
     "output_type": "display_data"
    }
   ],
   "source": [
    "# histogram of predicted probabilities\n",
    "# adjust the font size \n",
    "plt.rcParams['font.size'] = 12\n",
    "# 8 bins\n",
    "plt.hist(y_pred_prob, bins=8)\n",
    "\n",
    "# x-axis limit from 0 to 1\n",
    "plt.xlim(0,1)\n",
    "plt.title('Histogram of predicted probabilities')\n",
    "plt.xlabel('Predicted probability of diabetes')\n",
    "plt.ylabel('Frequency')"
   ]
  },
  {
   "cell_type": "markdown",
   "metadata": {},
   "source": [
    "Almost all of observations have probability from 0.0 to 0.1"
   ]
  },
  {
   "cell_type": "code",
   "execution_count": 164,
   "metadata": {},
   "outputs": [
    {
     "name": "stderr",
     "output_type": "stream",
     "text": [
      "/anaconda/lib/python2.7/site-packages/sklearn/utils/validation.py:395: DeprecationWarning: Passing 1d arrays as data is deprecated in 0.17 and will raise ValueError in 0.19. Reshape your data either using X.reshape(-1, 1) if your data has a single feature or X.reshape(1, -1) if it contains a single sample.\n",
      "  DeprecationWarning)\n"
     ]
    }
   ],
   "source": [
    "# predict misuse of pain killers if the predicted probability is greater than 0.3\n",
    "from sklearn.preprocessing import binarize\n",
    "# it will return 1 for all values above 0.3 and 0 otherwise\n",
    "y_pred_class = binarize(y_pred_prob, 0.3)[0]"
   ]
  },
  {
   "cell_type": "code",
   "execution_count": 165,
   "metadata": {},
   "outputs": [
    {
     "data": {
      "text/plain": [
       "array([ 0.05346348,  0.08295651,  0.02762805,  0.02543166,  0.0231014 ,\n",
       "        0.0613547 ,  0.0187459 ,  0.04462747,  0.05263725,  0.07060008])"
      ]
     },
     "execution_count": 165,
     "metadata": {},
     "output_type": "execute_result"
    }
   ],
   "source": [
    "# print the first 10 predicted probabilities\n",
    "y_pred_prob[0:10]"
   ]
  },
  {
   "cell_type": "code",
   "execution_count": 166,
   "metadata": {},
   "outputs": [
    {
     "name": "stdout",
     "output_type": "stream",
     "text": [
      "[[13450    43]\n",
      " [  728    66]]\n"
     ]
    }
   ],
   "source": [
    "# previous confusion matrix (default threshold of 0.5)\n",
    "print(confusion)"
   ]
  },
  {
   "cell_type": "code",
   "execution_count": 167,
   "metadata": {},
   "outputs": [
    {
     "name": "stdout",
     "output_type": "stream",
     "text": [
      "[[13413    80]\n",
      " [  708    86]]\n"
     ]
    }
   ],
   "source": [
    "# new confusion matrix (threshold of 0.3)\n",
    "print(metrics.confusion_matrix(y_test, y_pred_class))"
   ]
  },
  {
   "cell_type": "code",
   "execution_count": 169,
   "metadata": {},
   "outputs": [
    {
     "name": "stdout",
     "output_type": "stream",
     "text": [
      "0.108312342569\n"
     ]
    }
   ],
   "source": [
    "# sensitivity has increased (used to be 0.8)\n",
    "print (86 / float(86 + 708))"
   ]
  }
 ],
 "metadata": {
  "kernelspec": {
   "display_name": "Python 2",
   "language": "python",
   "name": "python2"
  },
  "language_info": {
   "codemirror_mode": {
    "name": "ipython",
    "version": 2
   },
   "file_extension": ".py",
   "mimetype": "text/x-python",
   "name": "python",
   "nbconvert_exporter": "python",
   "pygments_lexer": "ipython2",
   "version": "2.7.13"
  }
 },
 "nbformat": 4,
 "nbformat_minor": 2
}
